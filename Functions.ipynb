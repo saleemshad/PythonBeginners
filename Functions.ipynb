{
  "nbformat": 4,
  "nbformat_minor": 0,
  "metadata": {
    "colab": {
      "name": "Functions.ipynb",
      "provenance": [],
      "collapsed_sections": [],
      "authorship_tag": "ABX9TyMdAXAuR87vJ92k//LV0GHO",
      "include_colab_link": true
    },
    "kernelspec": {
      "name": "python3",
      "display_name": "Python 3"
    },
    "language_info": {
      "name": "python"
    }
  },
  "cells": [
    {
      "cell_type": "markdown",
      "metadata": {
        "id": "view-in-github",
        "colab_type": "text"
      },
      "source": [
        "<a href=\"https://colab.research.google.com/github/saleemshad/PythonBeginners/blob/main/Functions.ipynb\" target=\"_parent\"><img src=\"https://colab.research.google.com/assets/colab-badge.svg\" alt=\"Open In Colab\"/></a>"
      ]
    },
    {
      "cell_type": "markdown",
      "metadata": {
        "id": "LnOmFMq6cnrd"
      },
      "source": [
        "Functions\n",
        "Functions with no arguments"
      ]
    },
    {
      "cell_type": "code",
      "metadata": {
        "colab": {
          "base_uri": "https://localhost:8080/"
        },
        "id": "q0jus1LGdV2k",
        "outputId": "b5020f3d-6d54-4804-ca83-60a0f3e124db"
      },
      "source": [
        "def say_hello():\n",
        "    # block belonging to the function\n",
        "    print('hello world')\n",
        "# End of function\n",
        "\n",
        "say_hello()  # call the function\n",
        "say_hello()  # call the function again"
      ],
      "execution_count": null,
      "outputs": [
        {
          "output_type": "stream",
          "name": "stdout",
          "text": [
            "hello world\n",
            "hello world\n"
          ]
        }
      ]
    },
    {
      "cell_type": "markdown",
      "metadata": {
        "id": "UWafVDrtd8M3"
      },
      "source": [
        "Function with Parameters"
      ]
    },
    {
      "cell_type": "code",
      "metadata": {
        "colab": {
          "base_uri": "https://localhost:8080/"
        },
        "id": "JbQ_c_0Rd-SX",
        "outputId": "c4da108e-7029-4889-a9e2-85b553a3c6b6"
      },
      "source": [
        "def print_max(a, b):\n",
        "    if a > b:\n",
        "        print(a, 'is maximum')\n",
        "    elif a == b:\n",
        "        print(a, 'is equal to', b)\n",
        "    else:\n",
        "        print(b, 'is maximum')\n",
        "\n",
        "# directly pass literal values\n",
        "print_max(3, 4)\n",
        "x = 5\n",
        "y = 7\n",
        "\n",
        "# pass variables as arguments\n",
        "print_max(x, y)"
      ],
      "execution_count": null,
      "outputs": [
        {
          "output_type": "stream",
          "name": "stdout",
          "text": [
            "4 is maximum\n",
            "7 is maximum\n"
          ]
        }
      ]
    },
    {
      "cell_type": "markdown",
      "metadata": {
        "id": "m-ToEHIMeKlA"
      },
      "source": [
        "Functions with Local Variables"
      ]
    },
    {
      "cell_type": "code",
      "metadata": {
        "colab": {
          "base_uri": "https://localhost:8080/"
        },
        "id": "eljpmDxxecz3",
        "outputId": "1abef1d7-59ce-46c9-aa1f-db5b37ff47b9"
      },
      "source": [
        "x = 50\n",
        "\n",
        "\n",
        "def func(x):\n",
        "    print('x is', x)\n",
        "    x = 2\n",
        "    print('Changed local x to', x)\n",
        "\n",
        "\n",
        "func(x)\n",
        "print('x is still', x)"
      ],
      "execution_count": null,
      "outputs": [
        {
          "output_type": "stream",
          "name": "stdout",
          "text": [
            "x is 50\n",
            "Changed local x to 2\n",
            "x is still 50\n"
          ]
        }
      ]
    },
    {
      "cell_type": "markdown",
      "metadata": {
        "id": "JUiQ-zUre4Sw"
      },
      "source": [
        "Functions with global variblels"
      ]
    },
    {
      "cell_type": "code",
      "metadata": {
        "colab": {
          "base_uri": "https://localhost:8080/"
        },
        "id": "bTylvYqge9Qx",
        "outputId": "27d91e23-af44-4ed4-fd19-d1287d5458f8"
      },
      "source": [
        "x = 50\n",
        "\n",
        "\n",
        "def func():\n",
        "    global x\n",
        "\n",
        "    print('x is', x)\n",
        "    x = 2\n",
        "    print('Changed global x to', x)\n",
        "\n",
        "\n",
        "func()\n",
        "print('Value of x is', x)"
      ],
      "execution_count": null,
      "outputs": [
        {
          "output_type": "stream",
          "name": "stdout",
          "text": [
            "x is 50\n",
            "Changed global x to 2\n",
            "Value of x is 2\n"
          ]
        }
      ]
    },
    {
      "cell_type": "markdown",
      "metadata": {
        "id": "rkXK6KCyfGAN"
      },
      "source": [
        "Function with default arguments values"
      ]
    },
    {
      "cell_type": "code",
      "metadata": {
        "colab": {
          "base_uri": "https://localhost:8080/"
        },
        "id": "EIk824H9fP07",
        "outputId": "e8f6b4e9-ef13-43ce-9afb-79562bc4bc71"
      },
      "source": [
        "def say(message, times=1):\n",
        "    print(message * times)\n",
        "\n",
        "say('Hello')\n",
        "say('World', 5)"
      ],
      "execution_count": null,
      "outputs": [
        {
          "output_type": "stream",
          "name": "stdout",
          "text": [
            "Hello\n",
            "WorldWorldWorldWorldWorld\n"
          ]
        }
      ]
    },
    {
      "cell_type": "markdown",
      "metadata": {
        "id": "c08stWo7fmJv"
      },
      "source": [
        "Functions with Keyword Arguments"
      ]
    },
    {
      "cell_type": "code",
      "metadata": {
        "colab": {
          "base_uri": "https://localhost:8080/"
        },
        "id": "_ncX1Pvefpzb",
        "outputId": "57b748bc-8b12-4607-a079-c7d5a39ce7b0"
      },
      "source": [
        "def func(a, b=5, c=10):\n",
        "    print('a is', a, 'and b is', b, 'and c is', c)\n",
        "\n",
        "func(3, 7)\n",
        "func(25, c=24)\n",
        "func(c=50, a=100)"
      ],
      "execution_count": null,
      "outputs": [
        {
          "output_type": "stream",
          "name": "stdout",
          "text": [
            "a is 3 and b is 7 and c is 10\n",
            "a is 25 and b is 5 and c is 24\n",
            "a is 100 and b is 5 and c is 50\n"
          ]
        }
      ]
    },
    {
      "cell_type": "markdown",
      "metadata": {
        "id": "7QQLd1l_gEdj"
      },
      "source": [
        "Functions with VarArgs parameters"
      ]
    },
    {
      "cell_type": "code",
      "metadata": {
        "colab": {
          "base_uri": "https://localhost:8080/"
        },
        "id": "4a7-xPYpgKip",
        "outputId": "3b6dc9cb-cfa2-4c38-821f-a8e4ed944cfe"
      },
      "source": [
        "def total(a=5, *numbers, **phonebook):\n",
        "    print('a', a)\n",
        "\n",
        "    #iterate through all the items in tuple\n",
        "    # the value of numbers is 1,2,3,4 \n",
        "    # the index value of these numbers starts from 0,1,2,3,4\n",
        "    # the below for loop checks the \n",
        "      #0<1 yes then print 1\n",
        "      #1<2 yes then print 2\n",
        "      #2<3 yes then print 3\n",
        "      \n",
        "\n",
        "\n",
        "    for single_item in numbers:\n",
        "        \n",
        "        print('single_item', single_item)\n",
        "       \n",
        "\n",
        "    #iterate through all the items in dictionary    \n",
        "    for first_part, second_part in phonebook.items():\n",
        "        print(first_part,second_part)\n",
        "    \n",
        "\n",
        "total(10,1,2,3,Jack=1123,John=2231,Inge=1560)"
      ],
      "execution_count": null,
      "outputs": [
        {
          "output_type": "stream",
          "name": "stdout",
          "text": [
            "a 10\n",
            "single_item 1\n",
            "single_item 2\n",
            "single_item 3\n",
            "Jack 1123\n",
            "John 2231\n",
            "Inge 1560\n"
          ]
        }
      ]
    },
    {
      "cell_type": "markdown",
      "metadata": {
        "id": "6Qzk4DPHvMYu"
      },
      "source": [
        "Function returining values"
      ]
    },
    {
      "cell_type": "code",
      "metadata": {
        "colab": {
          "base_uri": "https://localhost:8080/"
        },
        "id": "4nKczXlbvOO8",
        "outputId": "842ade06-fa4e-4330-f98d-50b4b5c1606d"
      },
      "source": [
        "def maximum(x, y):\n",
        "    if x > y:\n",
        "        return x\n",
        "    elif x == y:\n",
        "        return 'The numbers are equal'\n",
        "    else:\n",
        "        return y\n",
        "\n",
        "print(maximum(2, 3))"
      ],
      "execution_count": null,
      "outputs": [
        {
          "output_type": "stream",
          "name": "stdout",
          "text": [
            "3\n"
          ]
        }
      ]
    },
    {
      "cell_type": "markdown",
      "metadata": {
        "id": "xJRFMMbPwOOw"
      },
      "source": [
        "Functions using DocStrings"
      ]
    },
    {
      "cell_type": "code",
      "metadata": {
        "id": "c7c-QazuwRA2",
        "colab": {
          "base_uri": "https://localhost:8080/"
        },
        "outputId": "a5a6c428-3cf8-47a3-9d18-4a34ff7f1c61"
      },
      "source": [
        "def print_max(x, y):\n",
        "    '''Prints the maximum of two numbers.\n",
        "\n",
        "    The two values must be integers.'''\n",
        "    # convert to integers, if possible\n",
        "    x = int(x)\n",
        "    y = int(y)\n",
        "\n",
        "    if x > y:\n",
        "        print(x, 'is maximum')\n",
        "    else:\n",
        "        print(y, 'is maximum')\n",
        "\n",
        "print_max(3, 5)\n",
        "print(print_max.__doc__)"
      ],
      "execution_count": null,
      "outputs": [
        {
          "output_type": "stream",
          "name": "stdout",
          "text": [
            "5 is maximum\n",
            "Prints the maximum of two numbers.\n",
            "\n",
            "    The two values must be integers.\n"
          ]
        }
      ]
    }
  ]
}