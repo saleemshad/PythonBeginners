{
  "nbformat": 4,
  "nbformat_minor": 0,
  "metadata": {
    "colab": {
      "name": "Pattern_drawing.ipynb",
      "provenance": [],
      "toc_visible": true,
      "authorship_tag": "ABX9TyOBFsQZ02lwnCKIAcG1+o8/",
      "include_colab_link": true
    },
    "kernelspec": {
      "name": "python3",
      "display_name": "Python 3"
    },
    "language_info": {
      "name": "python"
    }
  },
  "cells": [
    {
      "cell_type": "markdown",
      "metadata": {
        "id": "view-in-github",
        "colab_type": "text"
      },
      "source": [
        "<a href=\"https://colab.research.google.com/github/saleemshad/PythonBeginners/blob/main/Pattern_drawing.ipynb\" target=\"_parent\"><img src=\"https://colab.research.google.com/assets/colab-badge.svg\" alt=\"Open In Colab\"/></a>"
      ]
    },
    {
      "cell_type": "markdown",
      "metadata": {
        "id": "JsIU5tLZ0ktl"
      },
      "source": [
        "# Drawing patterns in python"
      ]
    },
    {
      "cell_type": "markdown",
      "metadata": {
        "id": "KG4GhNVL0spf"
      },
      "source": [
        "Draw a pttern of triangle with Numbers\n",
        "\n",
        "```\n",
        "1 \n",
        "1 2 \n",
        "1 2 3 \n",
        "1 2 3 4 \n",
        "1 2 3 4 5\n",
        "```\n",
        "\n",
        "\n",
        "\n",
        "\n",
        "\n",
        "\n"
      ]
    },
    {
      "cell_type": "code",
      "metadata": {
        "colab": {
          "base_uri": "https://localhost:8080/"
        },
        "id": "H-RQ-wFAz5D1",
        "outputId": "c04b1dde-ecdb-40c3-9ec0-a67539ded5e8"
      },
      "source": [
        "for i in range(1,6):\n",
        "  for j in range (1,i+1):\n",
        "      print(j, end= ' ')\n",
        "  print()"
      ],
      "execution_count": 10,
      "outputs": [
        {
          "output_type": "stream",
          "name": "stdout",
          "text": [
            "1 \n",
            "1 2 \n",
            "1 2 3 \n",
            "1 2 3 4 \n",
            "1 2 3 4 5 \n"
          ]
        }
      ]
    },
    {
      "cell_type": "markdown",
      "metadata": {
        "id": "U7vTzvJf1bGN"
      },
      "source": [
        "Draw a reverse pattern of triangle"
      ]
    },
    {
      "cell_type": "code",
      "metadata": {
        "colab": {
          "base_uri": "https://localhost:8080/"
        },
        "id": "tPTVkCyY1f5D",
        "outputId": "493d0fa2-54b5-4d23-a964-70cb8f2254a3"
      },
      "source": [
        "for i in range(6,0,-1):\n",
        "    for j in range(1,i):\n",
        "        print(j, end= ' ')\n",
        "    print()"
      ],
      "execution_count": 14,
      "outputs": [
        {
          "output_type": "stream",
          "name": "stdout",
          "text": [
            "1 2 3 4 5 \n",
            "1 2 3 4 \n",
            "1 2 3 \n",
            "1 2 \n",
            "1 \n",
            "\n"
          ]
        }
      ]
    }
  ]
}