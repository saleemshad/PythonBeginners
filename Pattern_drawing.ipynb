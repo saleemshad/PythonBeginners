{
  "nbformat": 4,
  "nbformat_minor": 0,
  "metadata": {
    "colab": {
      "name": "Pattern_drawing.ipynb",
      "provenance": [],
      "toc_visible": true,
      "authorship_tag": "ABX9TyOHi+fC/CPlHSU/1NTubaPp",
      "include_colab_link": true
    },
    "kernelspec": {
      "name": "python3",
      "display_name": "Python 3"
    },
    "language_info": {
      "name": "python"
    }
  },
  "cells": [
    {
      "cell_type": "markdown",
      "metadata": {
        "id": "view-in-github",
        "colab_type": "text"
      },
      "source": [
        "<a href=\"https://colab.research.google.com/github/saleemshad/PythonBeginners/blob/main/Pattern_drawing.ipynb\" target=\"_parent\"><img src=\"https://colab.research.google.com/assets/colab-badge.svg\" alt=\"Open In Colab\"/></a>"
      ]
    },
    {
      "cell_type": "markdown",
      "metadata": {
        "id": "JsIU5tLZ0ktl"
      },
      "source": [
        "# Drawing patterns in python"
      ]
    },
    {
      "cell_type": "markdown",
      "metadata": {
        "id": "KG4GhNVL0spf"
      },
      "source": [
        "Draw a pttern of triangle with Numbers\n",
        "\n",
        "```\n",
        "1 \n",
        "1 2 \n",
        "1 2 3 \n",
        "1 2 3 4 \n",
        "1 2 3 4 5\n",
        "```\n",
        "\n",
        "\n",
        "\n",
        "\n",
        "\n",
        "\n"
      ]
    },
    {
      "cell_type": "code",
      "metadata": {
        "colab": {
          "base_uri": "https://localhost:8080/"
        },
        "id": "H-RQ-wFAz5D1",
        "outputId": "c04b1dde-ecdb-40c3-9ec0-a67539ded5e8"
      },
      "source": [
        "for i in range(1,6):\n",
        "  for j in range (1,i+1):\n",
        "      print(j, end= ' ')\n",
        "  print()"
      ],
      "execution_count": 10,
      "outputs": [
        {
          "output_type": "stream",
          "name": "stdout",
          "text": [
            "1 \n",
            "1 2 \n",
            "1 2 3 \n",
            "1 2 3 4 \n",
            "1 2 3 4 5 \n"
          ]
        }
      ]
    },
    {
      "cell_type": "markdown",
      "metadata": {
        "id": "U7vTzvJf1bGN"
      },
      "source": [
        "Draw a reverse pattern of triangle"
      ]
    },
    {
      "cell_type": "code",
      "metadata": {
        "colab": {
          "base_uri": "https://localhost:8080/"
        },
        "id": "tPTVkCyY1f5D",
        "outputId": "493d0fa2-54b5-4d23-a964-70cb8f2254a3"
      },
      "source": [
        "for i in range(6,0,-1):\n",
        "    for j in range(1,i):\n",
        "        print(j, end= ' ')\n",
        "    print()"
      ],
      "execution_count": 14,
      "outputs": [
        {
          "output_type": "stream",
          "name": "stdout",
          "text": [
            "1 2 3 4 5 \n",
            "1 2 3 4 \n",
            "1 2 3 \n",
            "1 2 \n",
            "1 \n",
            "\n"
          ]
        }
      ]
    },
    {
      "cell_type": "markdown",
      "metadata": {
        "id": "BXOvkFTB1-7b"
      },
      "source": [
        "Draw a triangle pattern with stars"
      ]
    },
    {
      "cell_type": "code",
      "metadata": {
        "colab": {
          "base_uri": "https://localhost:8080/"
        },
        "id": "uGDMG-Ka2Bw1",
        "outputId": "e0ba2280-a751-4b43-d90b-f1af2bf3aacf"
      },
      "source": [
        "for i in range(1,6):\n",
        "  for j in range(1,i+1):\n",
        "      print(\"*\", end=' ')\n",
        "  print()"
      ],
      "execution_count": 24,
      "outputs": [
        {
          "output_type": "stream",
          "name": "stdout",
          "text": [
            "* \n",
            "* * \n",
            "* * * \n",
            "* * * * \n",
            "* * * * * \n"
          ]
        }
      ]
    },
    {
      "cell_type": "markdown",
      "metadata": {
        "id": "AeG17Ah12fXV"
      },
      "source": [
        "Draw a reverse triangle pattern "
      ]
    },
    {
      "cell_type": "code",
      "metadata": {
        "colab": {
          "base_uri": "https://localhost:8080/"
        },
        "id": "KX7v2ezu2kM5",
        "outputId": "7fd110d5-a3e1-4b6f-e6ce-75d074e85794"
      },
      "source": [
        "for i in range(6,0,-1):\n",
        "    for j in range(1,i):\n",
        "        print('*', end = ' ')\n",
        "    print()"
      ],
      "execution_count": 23,
      "outputs": [
        {
          "output_type": "stream",
          "name": "stdout",
          "text": [
            "* * * * * \n",
            "* * * * \n",
            "* * * \n",
            "* * \n",
            "* \n",
            "\n"
          ]
        }
      ]
    },
    {
      "cell_type": "markdown",
      "metadata": {
        "id": "mMTIG_CF3FMu"
      },
      "source": [
        ""
      ]
    },
    {
      "cell_type": "code",
      "metadata": {
        "colab": {
          "base_uri": "https://localhost:8080/"
        },
        "id": "wbnxORKK3F4F",
        "outputId": "4af1ecb1-7195-4b30-cd0a-58fc2af2b5e9"
      },
      "source": [
        "for i in range(1,6):\n",
        "    for j in range(i+1):\n",
        "        print('*', end = ' ')\n",
        "    print()"
      ],
      "execution_count": 44,
      "outputs": [
        {
          "output_type": "stream",
          "name": "stdout",
          "text": [
            "* * \n",
            "* * * \n",
            "* * * * \n",
            "* * * * * \n",
            "* * * * * * \n"
          ]
        }
      ]
    }
  ]
}